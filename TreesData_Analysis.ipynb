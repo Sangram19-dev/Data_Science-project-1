{
 "cells": [
  {
   "cell_type": "code",
   "execution_count": 9,
   "id": "969d9ab8",
   "metadata": {},
   "outputs": [
    {
     "data": {
      "text/html": [
       "<div>\n",
       "<style scoped>\n",
       "    .dataframe tbody tr th:only-of-type {\n",
       "        vertical-align: middle;\n",
       "    }\n",
       "\n",
       "    .dataframe tbody tr th {\n",
       "        vertical-align: top;\n",
       "    }\n",
       "\n",
       "    .dataframe thead th {\n",
       "        text-align: right;\n",
       "    }\n",
       "</style>\n",
       "<table border=\"1\" class=\"dataframe\">\n",
       "  <thead>\n",
       "    <tr style=\"text-align: right;\">\n",
       "      <th></th>\n",
       "      <th>Girth</th>\n",
       "      <th>Height</th>\n",
       "      <th>Volume</th>\n",
       "    </tr>\n",
       "  </thead>\n",
       "  <tbody>\n",
       "    <tr>\n",
       "      <th>1</th>\n",
       "      <td>0.21</td>\n",
       "      <td>21.35</td>\n",
       "      <td>0.29</td>\n",
       "    </tr>\n",
       "    <tr>\n",
       "      <th>2</th>\n",
       "      <td>0.22</td>\n",
       "      <td>19.82</td>\n",
       "      <td>0.29</td>\n",
       "    </tr>\n",
       "    <tr>\n",
       "      <th>3</th>\n",
       "      <td>0.22</td>\n",
       "      <td>19.22</td>\n",
       "      <td>0.29</td>\n",
       "    </tr>\n",
       "    <tr>\n",
       "      <th>4</th>\n",
       "      <td>0.27</td>\n",
       "      <td>21.96</td>\n",
       "      <td>0.46</td>\n",
       "    </tr>\n",
       "    <tr>\n",
       "      <th>5</th>\n",
       "      <td>0.27</td>\n",
       "      <td>24.70</td>\n",
       "      <td>0.53</td>\n",
       "    </tr>\n",
       "    <tr>\n",
       "      <th>6</th>\n",
       "      <td>0.27</td>\n",
       "      <td>25.32</td>\n",
       "      <td>0.56</td>\n",
       "    </tr>\n",
       "    <tr>\n",
       "      <th>7</th>\n",
       "      <td>0.28</td>\n",
       "      <td>20.13</td>\n",
       "      <td>0.44</td>\n",
       "    </tr>\n",
       "    <tr>\n",
       "      <th>8</th>\n",
       "      <td>0.28</td>\n",
       "      <td>22.88</td>\n",
       "      <td>0.52</td>\n",
       "    </tr>\n",
       "    <tr>\n",
       "      <th>9</th>\n",
       "      <td>0.28</td>\n",
       "      <td>24.40</td>\n",
       "      <td>0.64</td>\n",
       "    </tr>\n",
       "    <tr>\n",
       "      <th>10</th>\n",
       "      <td>0.28</td>\n",
       "      <td>22.88</td>\n",
       "      <td>0.56</td>\n",
       "    </tr>\n",
       "    <tr>\n",
       "      <th>11</th>\n",
       "      <td>0.29</td>\n",
       "      <td>24.10</td>\n",
       "      <td>0.68</td>\n",
       "    </tr>\n",
       "    <tr>\n",
       "      <th>12</th>\n",
       "      <td>0.29</td>\n",
       "      <td>23.18</td>\n",
       "      <td>0.59</td>\n",
       "    </tr>\n",
       "    <tr>\n",
       "      <th>13</th>\n",
       "      <td>0.29</td>\n",
       "      <td>23.18</td>\n",
       "      <td>0.61</td>\n",
       "    </tr>\n",
       "    <tr>\n",
       "      <th>14</th>\n",
       "      <td>0.30</td>\n",
       "      <td>21.04</td>\n",
       "      <td>0.60</td>\n",
       "    </tr>\n",
       "    <tr>\n",
       "      <th>15</th>\n",
       "      <td>0.30</td>\n",
       "      <td>22.88</td>\n",
       "      <td>0.54</td>\n",
       "    </tr>\n",
       "    <tr>\n",
       "      <th>16</th>\n",
       "      <td>0.33</td>\n",
       "      <td>22.57</td>\n",
       "      <td>0.63</td>\n",
       "    </tr>\n",
       "    <tr>\n",
       "      <th>17</th>\n",
       "      <td>0.33</td>\n",
       "      <td>25.92</td>\n",
       "      <td>0.96</td>\n",
       "    </tr>\n",
       "    <tr>\n",
       "      <th>18</th>\n",
       "      <td>0.34</td>\n",
       "      <td>26.23</td>\n",
       "      <td>0.78</td>\n",
       "    </tr>\n",
       "    <tr>\n",
       "      <th>19</th>\n",
       "      <td>0.35</td>\n",
       "      <td>21.66</td>\n",
       "      <td>0.73</td>\n",
       "    </tr>\n",
       "    <tr>\n",
       "      <th>20</th>\n",
       "      <td>0.35</td>\n",
       "      <td>19.52</td>\n",
       "      <td>0.70</td>\n",
       "    </tr>\n",
       "    <tr>\n",
       "      <th>21</th>\n",
       "      <td>0.36</td>\n",
       "      <td>23.79</td>\n",
       "      <td>0.98</td>\n",
       "    </tr>\n",
       "    <tr>\n",
       "      <th>22</th>\n",
       "      <td>0.36</td>\n",
       "      <td>24.40</td>\n",
       "      <td>0.90</td>\n",
       "    </tr>\n",
       "    <tr>\n",
       "      <th>23</th>\n",
       "      <td>0.37</td>\n",
       "      <td>22.57</td>\n",
       "      <td>1.03</td>\n",
       "    </tr>\n",
       "    <tr>\n",
       "      <th>24</th>\n",
       "      <td>0.41</td>\n",
       "      <td>21.96</td>\n",
       "      <td>1.08</td>\n",
       "    </tr>\n",
       "    <tr>\n",
       "      <th>25</th>\n",
       "      <td>0.41</td>\n",
       "      <td>23.48</td>\n",
       "      <td>1.21</td>\n",
       "    </tr>\n",
       "    <tr>\n",
       "      <th>26</th>\n",
       "      <td>0.44</td>\n",
       "      <td>24.70</td>\n",
       "      <td>1.57</td>\n",
       "    </tr>\n",
       "    <tr>\n",
       "      <th>27</th>\n",
       "      <td>0.44</td>\n",
       "      <td>25.01</td>\n",
       "      <td>1.58</td>\n",
       "    </tr>\n",
       "    <tr>\n",
       "      <th>28</th>\n",
       "      <td>0.45</td>\n",
       "      <td>24.40</td>\n",
       "      <td>1.65</td>\n",
       "    </tr>\n",
       "    <tr>\n",
       "      <th>29</th>\n",
       "      <td>0.46</td>\n",
       "      <td>24.40</td>\n",
       "      <td>1.46</td>\n",
       "    </tr>\n",
       "    <tr>\n",
       "      <th>30</th>\n",
       "      <td>0.46</td>\n",
       "      <td>24.40</td>\n",
       "      <td>1.44</td>\n",
       "    </tr>\n",
       "    <tr>\n",
       "      <th>31</th>\n",
       "      <td>0.52</td>\n",
       "      <td>26.54</td>\n",
       "      <td>2.18</td>\n",
       "    </tr>\n",
       "  </tbody>\n",
       "</table>\n",
       "</div>"
      ],
      "text/plain": [
       "    Girth  Height  Volume\n",
       "1    0.21   21.35    0.29\n",
       "2    0.22   19.82    0.29\n",
       "3    0.22   19.22    0.29\n",
       "4    0.27   21.96    0.46\n",
       "5    0.27   24.70    0.53\n",
       "6    0.27   25.32    0.56\n",
       "7    0.28   20.13    0.44\n",
       "8    0.28   22.88    0.52\n",
       "9    0.28   24.40    0.64\n",
       "10   0.28   22.88    0.56\n",
       "11   0.29   24.10    0.68\n",
       "12   0.29   23.18    0.59\n",
       "13   0.29   23.18    0.61\n",
       "14   0.30   21.04    0.60\n",
       "15   0.30   22.88    0.54\n",
       "16   0.33   22.57    0.63\n",
       "17   0.33   25.92    0.96\n",
       "18   0.34   26.23    0.78\n",
       "19   0.35   21.66    0.73\n",
       "20   0.35   19.52    0.70\n",
       "21   0.36   23.79    0.98\n",
       "22   0.36   24.40    0.90\n",
       "23   0.37   22.57    1.03\n",
       "24   0.41   21.96    1.08\n",
       "25   0.41   23.48    1.21\n",
       "26   0.44   24.70    1.57\n",
       "27   0.44   25.01    1.58\n",
       "28   0.45   24.40    1.65\n",
       "29   0.46   24.40    1.46\n",
       "30   0.46   24.40    1.44\n",
       "31   0.52   26.54    2.18"
      ]
     },
     "execution_count": 9,
     "metadata": {},
     "output_type": "execute_result"
    }
   ],
   "source": [
    "import pandas as pan\n",
    "#data cleaning\n",
    "data= pan.read_csv('trees.csv', names=['I','Girth','Height','Volume'])\n",
    "del data['I']\n",
    "data.drop(0,inplace=True)\n",
    "\n",
    "#data processing\n",
    "data['Girth']=data['Girth'].astype(float) #changing data type for mathematical operation \n",
    "data['Height']=data['Height'].astype(float)\n",
    "data['Volume']=data['Volume'].astype(float)\n",
    "\n",
    "#change inchase values to miters\n",
    "\n",
    "data['Girth'] *= 0.0254\n",
    "data['Height'] *= 0.305\n",
    "data['Volume'] *= 0.0283\n",
    "\n",
    "data.round(2)\n",
    "\n"
   ]
  },
  {
   "cell_type": "code",
   "execution_count": 23,
   "id": "f76ed623",
   "metadata": {},
   "outputs": [],
   "source": [
    "#data analysis\n",
    "\n",
    "max_girth= (data['Girth']).round(2).max()\n",
    "max_height= (data['Height']).round(2).max()\n",
    "max_volume= (data['Volume']).round(2).max()\n",
    "\n",
    "min_girth=(data['Girth']).round(2).min()\n",
    "min_height=(data['Height']).round(2).min()\n",
    "min_volume=(data['Volume']).round(2).min()\n",
    "\n",
    "avg_girth = round(data['Girth'].mean(),2)\n",
    "avg_height= round(data['Height'].mean(),2)\n",
    "avg_volume= round(data['Volume'].mean(),2)\n",
    "\n",
    "med_girth = (data['Girth'].round(2)).median()\n",
    "med_height = (data['Height'].round(2)).median()\n",
    "med_volume = (data['Volume'].round(2)).median()\n",
    "\n",
    "mod_girth = (data['Girth'].round(2)).mode()\n",
    "mod_height = (data['Height'].round(2)).mode()\n",
    "mod_volume = (data['Volume'].round(2)).mode()"
   ]
  },
  {
   "cell_type": "code",
   "execution_count": 27,
   "id": "0dd95dd5",
   "metadata": {
    "scrolled": true
   },
   "outputs": [
    {
     "data": {
      "text/plain": [
       "Text(0, 0.5, 'Meters')"
      ]
     },
     "execution_count": 27,
     "metadata": {},
     "output_type": "execute_result"
    },
    {
     "data": {
      "image/png": "[encoded data removed]",
      "text/plain": [
       "<Figure size 432x288 with 1 Axes>"
      ]
     },
     "metadata": {
      "needs_background": "light"
     },
     "output_type": "display_data"
    }
   ],
   "source": [
    "#data visualization\n",
    "\n",
    "import matplotlib.pyplot as plt\n",
    "plt.plot(data['Girth'])\n",
    "plt.title('Girth')\n",
    "plt.ylabel('Meters')\n",
    "\n",
    "\n",
    "\n"
   ]
  },
  {
   "cell_type": "code",
   "execution_count": 28,
   "id": "568d992e",
   "metadata": {},
   "outputs": [
    {
     "data": {
      "text/plain": [
       "Text(0, 0.5, 'Meters')"
      ]
     },
     "execution_count": 28,
     "metadata": {},
     "output_type": "execute_result"
    },
    {
     "data": {
      "image/png": "[encoded data removed]",
      "text/plain": [
       "<Figure size 432x288 with 1 Axes>"
      ]
     },
     "metadata": {
      "needs_background": "light"
     },
     "output_type": "display_data"
    }
   ],
   "source": [
    "plt.plot(data['Height'])\n",
    "plt.title('Height')\n",
    "plt.ylabel('Meters')"
   ]
  },
  {
   "cell_type": "code",
   "execution_count": 29,
   "id": "6b7d1675",
   "metadata": {},
   "outputs": [
    {
     "data": {
      "text/plain": [
       "Text(0, 0.5, 'Cubic Meters')"
      ]
     },
     "execution_count": 29,
     "metadata": {},
     "output_type": "execute_result"
    },
    {
     "data": {
      "image/png": "[encoded data removed]",
      "text/plain": [
       "<Figure size 432x288 with 1 Axes>"
      ]
     },
     "metadata": {
      "needs_background": "light"
     },
     "output_type": "display_data"
    }
   ],
   "source": [
    "plt.plot(data['Volume'])\n",
    "plt.title('Volume')\n",
    "plt.ylabel('Cubic Meters')"
   ]
  },
  {
   "cell_type": "code",
   "execution_count": null,
   "id": "3582bf53",
   "metadata": {},
   "outputs": [],
   "source": [
    "#final Report\n"
   ]
  }
 ],
 "metadata": {
  "kernelspec": {
   "display_name": "Python 3",
   "language": "python",
   "name": "python3"
  },
  "language_info": {
   "codemirror_mode": {
    "name": "ipython",
    "version": 3
   },
   "file_extension": ".py",
   "mimetype": "text/x-python",
   "name": "python",
   "nbconvert_exporter": "python",
   "pygments_lexer": "ipython3",
   "version": "3.8.8"
  }
 },
 "nbformat": 4,
 "nbformat_minor": 5
}
